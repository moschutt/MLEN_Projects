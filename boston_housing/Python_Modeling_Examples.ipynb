{
 "cells": [
  {
   "cell_type": "markdown",
   "metadata": {},
   "source": [
    "# Linear Regression\n",
    "\n",
    "Documentation page: http://scikit-learn.org/stable/modules/generated/sklearn.linear_model.LogisticRegression.html\n",
    "\n",
    "> `class sklearn.linear_model.LogisticRegression(penalty='l2', dual=False, tol=0.0001, C=1.0, fit_intercept=True, intercept_scaling=1, class_weight=None, random_state=None, solver='liblinear', max_iter=100, multi_class='ovr', verbose=0, warm_start=False, n_jobs=1)[source]`"
   ]
  },
  {
   "cell_type": "code",
   "execution_count": 13,
   "metadata": {},
   "outputs": [
    {
     "name": "stdout",
     "output_type": "stream",
     "text": [
      " slope:        3.33066907388e-16\n",
      "coefficient:  [ 1.]\n",
      "r^2 score:  1.0\n"
     ]
    },
    {
     "data": {
      "text/plain": [
       "[<matplotlib.lines.Line2D at 0x7fe671022290>]"
      ]
     },
     "execution_count": 13,
     "metadata": {},
     "output_type": "execute_result"
    },
    {
     "data": {
      "image/png": "[encoded data removed]",
      "text/plain": [
       "<matplotlib.figure.Figure at 0x7fe671271750>"
      ]
     },
     "metadata": {},
     "output_type": "display_data"
    }
   ],
   "source": [
    "# Required to get in-line images\n",
    "%matplotlib inline         \n",
    "\n",
    "import numpy\n",
    "import matplotlib\n",
    "import matplotlib.pyplot as plt\n",
    "\n",
    "# Import the linear model library\n",
    "from sklearn import linear_model\n",
    "\n",
    "# create data\n",
    "X = [[0], [1], [2]]\n",
    "y = [0, 1, 2]\n",
    "\n",
    "# Create the object\n",
    "glm = linear_model.LinearRegression()\n",
    "\n",
    "# Fit model to data\n",
    "glm.fit(X, y)\n",
    "\n",
    "# Pring the coefficient(s)\n",
    "print 'slope:       ', glm.intercept_\n",
    "print 'coefficient: ', glm.coef_\n",
    "\n",
    "print 'r^2 score: ', glm.score(X, y)       # should be done against the test data but....\n",
    "\n",
    "# Create plot object\n",
    "# Print X and y as scatter plot\n",
    "# Print the predicted points as a line\n",
    "plt.clf()\n",
    "plt.scatter(X, y, color='b')\n",
    "plt.plot(X, glm.predict(X), color='black')"
   ]
  },
  {
   "cell_type": "markdown",
   "metadata": {},
   "source": [
    "## Decision Tree (Classificaiton)\n",
    "\n",
    "Documentation page for decsion trees: http://scikit-learn.org/stable/modules/tree.html\n",
    "Documentation for DecisionTreeClassifier class : http://scikit-learn.org/stable/modules/generated/sklearn.tree.DecisionTreeClassifier.html#sklearn.tree.DecisionTreeClassifier\n",
    "\n",
    "> class sklearn.tree.DecisionTreeClassifier(criterion='gini', splitter='best', max_depth=None, min_samples_split=2, min_samples_leaf=1, min_weight_fraction_leaf=0.0, max_features=None, random_state=None, max_leaf_nodes=None, min_impurity_split=1e-07, class_weight=None, presort=False)[source]"
   ]
  },
  {
   "cell_type": "code",
   "execution_count": 43,
   "metadata": {},
   "outputs": [
    {
     "name": "stdout",
     "output_type": "stream",
     "text": [
      " <class 'sklearn.datasets.base.Bunch'>\n",
      "['target_names', 'data', 'target', 'DESCR', 'feature_names']\n",
      "<type 'numpy.ndarray'>\n",
      "[[ 4.9  3.   1.4  0.2]\n",
      " [ 4.7  3.2  1.3  0.2]\n",
      " [ 4.6  3.1  1.5  0.2]\n",
      " [ 5.   3.6  1.4  0.2]\n",
      " [ 5.4  3.9  1.7  0.4]\n",
      " [ 4.6  3.4  1.4  0.3]\n",
      " [ 5.   3.4  1.5  0.2]\n",
      " [ 4.4  2.9  1.4  0.2]\n",
      " [ 4.9  3.1  1.5  0.1]]\n",
      "<type 'numpy.ndarray'>\n",
      "[0 0 0 0 0 0 0 0 0]\n",
      "DecisionTreeClassifier(class_weight=None, criterion='gini', max_depth=None,\n",
      "            max_features=None, max_leaf_nodes=None,\n",
      "            min_impurity_split=1e-07, min_samples_leaf=1,\n",
      "            min_samples_split=2, min_weight_fraction_leaf=0.0,\n",
      "            presort=False, random_state=None, splitter='best')\n",
      "Accuracy =  1.0\n"
     ]
    }
   ],
   "source": [
    "from sklearn.datasets import load_iris\n",
    "from sklearn import tree\n",
    "\n",
    "iris = load_iris()\n",
    "\n",
    "print type(iris)\n",
    "print iris.keys()\n",
    "print type(iris.data)\n",
    "print iris.data[1:10]\n",
    "print type(iris.target)\n",
    "print iris.target[1:10]\n",
    "\n",
    "# Create instance of classifier\n",
    "clf = tree.DecisionTreeClassifier()\n",
    "# fit the data to the classifier - Note that it returns a new clf because -- Um shit?\n",
    "clf = clf.fit(iris.data, iris.target)\n",
    "\n",
    "print clf\n",
    "\n",
    "print 'Accuracy = ', clf.score(iris.data, iris.target)"
   ]
  },
  {
   "cell_type": "markdown",
   "metadata": {},
   "source": [
    "### Some parameters\n",
    "\n",
    "#### min_samples_split \n",
    "Minimum sampes requird to keep splitting.\n",
    "\n",
    "The smaller this value the more likely to over-fit.  The tree can go much deeper.\n",
    "\n",
    "#### criterion\n",
    "Select the information gain calculation.  Default is \"Gini\", but can be set to \"entropy\"."
   ]
  },
  {
   "cell_type": "markdown",
   "metadata": {},
   "source": [
    "## Entropy\n",
    "\n",
    "Is easy to calculate in R, and a bitch in python.  Why, python?  Why?"
   ]
  },
  {
   "cell_type": "code",
   "execution_count": 48,
   "metadata": {},
   "outputs": [
    {
     "name": "stdout",
     "output_type": "stream",
     "text": [
      "[1 2]\n",
      "[ 1 -1]\n",
      "-1\n",
      "[1 2]\n",
      "[-1  1]\n",
      "1\n",
      "[1 2]\n",
      "[ 2 -1]\n",
      "0\n"
     ]
    }
   ],
   "source": [
    "import numpy as np\n",
    "\n",
    "class Perceptron:\n",
    "    \"\"\"\n",
    "    This class models an artificial neuron with step activation function.\n",
    "    \"\"\"\n",
    "    def __init__(self, weights = np.array([1]), threshold = 0):\n",
    "        \"\"\"\n",
    "        Initialize weights and threshold based on input arguments. Note that no\n",
    "        type-checking is being performed here for simplicity.\n",
    "        \"\"\"\n",
    "        self.weights = weights\n",
    "        self.threshold = threshold\n",
    "    \n",
    "    def activate(self,inputs):\n",
    "        \"\"\"\n",
    "        Takes in @param inputs, a list of numbers equal to length of weights.\n",
    "        @return the output of a threshold perceptron with given inputs based on\n",
    "        perceptron weights and threshold.\n",
    "        \"\"\" \n",
    "\n",
    "        # The strength with which the perceptron fires.\n",
    "        strength = np.dot(self.weights, inputs)\n",
    "\n",
    "        # TODO: return 0 or 1 based on the threshold\n",
    "        if strength <= self.threshold :\n",
    "            self.result = 0\n",
    "        else:\n",
    "            self.result = 1\n",
    "        return self.result\n",
    "\n",
    "\n",
    "def test():\n",
    "    \"\"\"\n",
    "    A few tests to make sure that the perceptron class performs as expected.\n",
    "    Nothing should show up in the output if all the assertions pass.\n",
    "    \"\"\"\n",
    "    p1 = Perceptron(np.array([1, 2]), 0.)\n",
    "    assert p1.activate(np.array([ 1,-1])) == 0 # < threshold --> 0\n",
    "    assert p1.activate(np.array([-1, 1])) == 1 # > threshold --> 1\n",
    "    assert p1.activate(np.array([ 2,-1])) == 0 # on threshold --> 0\n",
    "    \n",
    "test()"
   ]
  },
  {
   "cell_type": "markdown",
   "metadata": {},
   "source": [
    "## Support Vector Machine (SV)\n",
    "\n",
    "Multiple kernels can be specified.  Below, the \"linear\" kernel is selected which will provide linear modeling.  From previous videos this is the (t(x)y) component of the logistic algorithm.  Others are, 'ploy', 'rbf', 'sigmoid', 'precomputed' or a callable function."
   ]
  },
  {
   "cell_type": "code",
   "execution_count": 49,
   "metadata": {},
   "outputs": [
    {
     "data": {
      "text/plain": [
       "SVC(C=1.0, cache_size=200, class_weight=None, coef0=0.0,\n",
       "  decision_function_shape=None, degree=3, gamma='auto', kernel='linear',\n",
       "  max_iter=-1, probability=False, random_state=None, shrinking=True,\n",
       "  tol=0.001, verbose=False)"
      ]
     },
     "execution_count": 49,
     "metadata": {},
     "output_type": "execute_result"
    }
   ],
   "source": [
    "from sklearn import svm\n",
    "X = [[0, 0], [1, 1]]\n",
    "y = [0, 1]\n",
    "clf = svm.SVC(kernel=\"linear\")\n",
    "clf.fit(X, y)"
   ]
  },
  {
   "cell_type": "markdown",
   "metadata": {},
   "source": [
    "## Naive Bayes\n",
    "\n",
    "Documentation is at http://scikit-learn.org/stable/modules/generated/sklearn.naive_bayes.GaussianNB.html"
   ]
  },
  {
   "cell_type": "code",
   "execution_count": 51,
   "metadata": {},
   "outputs": [
    {
     "name": "stdout",
     "output_type": "stream",
     "text": [
      "[1]\n",
      "[1]\n"
     ]
    }
   ],
   "source": [
    "import numpy as np\n",
    "X = np.array([[-1, -1], [-2, -1], [-3, -2], [1, 1], [2, 1], [3, 2]])\n",
    "Y = np.array([1, 1, 1, 2, 2, 2])\n",
    "from sklearn.naive_bayes import GaussianNB\n",
    "clf = GaussianNB()\n",
    "clf.fit(X, Y)\n",
    "\n",
    "print(clf.predict([[-0.8, -1]]))\n",
    "\n",
    "clf_pf = GaussianNB()\n",
    "clf_pf.partial_fit(X, Y, np.unique(Y))\n",
    "\n",
    "print(clf_pf.predict([[-0.8, -1]]))"
   ]
  },
  {
   "cell_type": "markdown",
   "metadata": {},
   "source": [
    "## Bayesian optimal classifier code.\n",
    "\n",
    "Note, this uses concept of _Conditional Independence_ to minimize the calculations required.  This sais that 2 events **A** and **B** are _conditionally indiependent_ given a third event **Y** precicely if the occurence of **A** and **B** are _independent_ evenents in their _conditional probability distribution_ given **Y**.  \n",
    "\n",
    "Or, knowing the probabilty of **Y** relative to **A** and **B** adds no information."
   ]
  },
  {
   "cell_type": "code",
   "execution_count": 52,
   "metadata": {},
   "outputs": [
    {
     "name": "stdout",
     "output_type": "stream",
     "text": [
      "come\n"
     ]
    }
   ],
   "source": [
    "#------------------------------------------------------------------\n",
    "\n",
    "#\n",
    "#   Bayes Optimal Classifier\n",
    "#\n",
    "#   In this quiz we will compute the optimal label for a second missing word in a row\n",
    "#   based on the possible words that could be in the first blank\n",
    "#\n",
    "#   Finish the procedurce, LaterWords(), below\n",
    "#\n",
    "#   You may want to import your code from the previous programming exercise!\n",
    "#\n",
    "\n",
    "sample_memo = '''\n",
    "Milt, we're gonna need to go ahead and move you downstairs into storage B. We have some new people coming in, and we need all the space we can get. So if you could just go ahead and pack up your stuff and move it down there, that would be terrific, OK?\n",
    "Oh, and remember: next Friday... is Hawaiian shirt day. So, you know, if you want to, go ahead and wear a Hawaiian shirt and jeans.\n",
    "Oh, oh, and I almost forgot. Ahh, I'm also gonna need you to go ahead and come in on Sunday, too...\n",
    "Hello Peter, whats happening? Ummm, I'm gonna need you to go ahead and come in tomorrow. So if you could be here around 9 that would be great, mmmk... oh oh! and I almost forgot ahh, I'm also gonna need you to go ahead and come in on Sunday too, kay. We ahh lost some people this week and ah, we sorta need to play catch up.\n",
    "'''\n",
    "\n",
    "corrupted_memo = '''\n",
    "Yeah, I'm gonna --- you to go ahead --- --- complain about this. Oh, and if you could --- --- and sit at the kids' table, that'd be --- \n",
    "'''\n",
    "\n",
    "data_list = sample_memo.strip().split()\n",
    "\n",
    "words_to_guess = [\"ahead\",\"could\"]\n",
    "\n",
    "def LaterWords(sample,word,distance):\n",
    "    '''@param sample: a sample of text to draw from\n",
    "    @param word: a word occuring before a corrupted sequence\n",
    "    @param distance: how many words later to estimate (i.e. 1 for the next word, 2 for the word after that)\n",
    "    @returns: a single word which is the most likely possibility\n",
    "    '''\n",
    "    \n",
    "    # TODO: Given a word, collect the relative probabilities of possible following words\n",
    "    # from @sample. You may want to import your code from the maximum likelihood exercise.\n",
    "    words = sample.split()\n",
    "    \n",
    "    #print \"The training set is:\", words\n",
    "    #print \"The word is:\", word, \".  What is the most likely word\", distance, \"words after it?\"\n",
    "    \n",
    "    res = {}\n",
    "    for i in range(len(words) - 1):\n",
    "        if word == words[i]:\n",
    "            n = i+1\n",
    "            res[words[n]] = res.get(words[n], 0) + 1\n",
    "                \n",
    "    s = sum(res.values()) * 1.0\n",
    "\n",
    "    for k in res:\n",
    "        res[k] = res[k] / s\n",
    "        \n",
    "    #print \"The first word(s) after\", word, \"is/are\", res\n",
    "    \n",
    "    # TODO: Repeat the above process--for each distance beyond 1, evaluate the words that\n",
    "    # might come after each word, and combine them weighting by relative probability\n",
    "    # into an estimate of what might appear next.\n",
    "    res_n = {}\n",
    "    for word1 in res:\n",
    "        res_i = {}\n",
    "        for i in range(len(words) - 1):\n",
    "            if word1 == words[i]:\n",
    "                n = i+distance-1\n",
    "                res_i[words[n]] = res_i.get(words[n], 0) + 1\n",
    "                \n",
    "        s = sum(res_i.values()) * 1.0\n",
    "        for i in res_i:\n",
    "            res_i[i] = res[word1] * res_i[i] / s\n",
    "            \n",
    "        res_n[word1] = res_i\n",
    "    \n",
    "    #for a in res_n:\n",
    "    #    print \"The first words after\", a, \"is/are:\", res_n[a]\n",
    "        \n",
    "    best = ''\n",
    "    prob = 0\n",
    "    for a in res_n:\n",
    "        for b in res_n[a]:\n",
    "            if prob < res_n[a][b]:\n",
    "                prob = res_n[a][b]\n",
    "                word = b\n",
    "                \n",
    "    return word\n",
    "    \n",
    "print LaterWords(sample_memo,\"ahead\",2)"
   ]
  }
 ],
 "metadata": {
  "kernelspec": {
   "display_name": "Python 2",
   "language": "python",
   "name": "python2"
  },
  "language_info": {
   "codemirror_mode": {
    "name": "ipython",
    "version": 2
   },
   "file_extension": ".py",
   "mimetype": "text/x-python",
   "name": "python",
   "nbconvert_exporter": "python",
   "pygments_lexer": "ipython2",
   "version": "2.7.13"
  }
 },
 "nbformat": 4,
 "nbformat_minor": 2
}
